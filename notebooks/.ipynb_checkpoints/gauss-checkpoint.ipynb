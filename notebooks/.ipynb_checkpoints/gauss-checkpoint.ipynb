{
 "cells": [
  {
   "cell_type": "markdown",
   "metadata": {},
   "source": [
    "# Método da Eliminação de Gauss\n",
    "## Objetivos\n",
    "Os objetivos desse notebook são três:\n",
    "1. Implementar o método das substituições retroativas e testá-lo.\n",
    "\n",
    "2. Implementar o método de Gauss e testá-lo.\n",
    " \n",
    "3. Implementar o método de Gauss modificado para calcular o determinante da matriz dos coeficientes e testá-lo.\n",
    "\n",
    "## Implementação\n",
    "Nós iremos implementar os algoritmos parte por parte, de acordo com as estratégias mostradas em sala. As instruções estão nos comentários nas funções abaixo. Você só precisa editar onde estiver indicado. \n",
    "\n",
    "Para executar uma célula, selecione a célula e pressione ```Ctrl + Enter```. Após implementar as funções abaixo, você deve executar cada uma das células, preferencialmente na ordem em que elas aparecem.\n"
   ]
  },
  {
   "cell_type": "markdown",
   "metadata": {},
   "source": [
    "### Método das Substituições Retroativas"
   ]
  },
  {
   "cell_type": "code",
   "execution_count": 1,
   "metadata": {},
   "outputs": [],
   "source": [
    "def substituicoes_retroativas(A, b):\n",
    "    '''Executa o método das substituições retroativas para resolver o sistema \n",
    "       linear triangular superior Ax=b.\n",
    "       Parâmetros de entrada: A é uma matriz triangular superior e b é o vetor constante. \n",
    "    '''\n",
    "    ## n é a ordem da matriz A\n",
    "    n = len(A)\n",
    "    \n",
    "    ## inicializa o vetor x com tamanho n e elementos iguais a 0\n",
    "    x = n * [0] \n",
    "    \n",
    "    x[n-1] = b[n-1]/A[n-1][n-1]\n",
    "    k = n - 1\n",
    "\n",
    "    while k >= 0:\n",
    "        s = 0\n",
    "        j = k+1\n",
    "        while j < n:\n",
    "            s = s + A[k][j] * x[j]\n",
    "            j = j + 1\n",
    "        x[k] = (b[k] - s)/A[k][k]\n",
    "        k = k - 1\n",
    "    \n",
    "    return x"
   ]
  },
  {
   "cell_type": "markdown",
   "metadata": {},
   "source": [
    "Agora precisamos testar se a função está implementada corretamente. Iremos usar o exemplo mostrado em sala."
   ]
  },
  {
   "cell_type": "code",
   "execution_count": 2,
   "metadata": {},
   "outputs": [
    {
     "name": "stdout",
     "output_type": "stream",
     "text": [
      "[-3.0, 0.0, 2.0, 4.0]\n"
     ]
    }
   ],
   "source": [
    "A = [[5, -2, 6, 1],\n",
    "      [0, 3, 7, -4],\n",
    "      [0, 0, 4, 5],\n",
    "      [0, 0, 0, 2]]\n",
    "b = [1, -2, 28, 8]\n",
    "x = substituicoes_retroativas(A,b)\n",
    "print(x)"
   ]
  },
  {
   "cell_type": "markdown",
   "metadata": {},
   "source": [
    "Se estiver tudo ok, ao executar a célula acima, você deve ver a resposta:\n",
    "```\n",
    "[-3.0, 0.0, 2.0, 4.0]\n",
    "```\n",
    "\n",
    "#### Exercício:\n",
    "Na célula abaixo, resolva o exercício mostrado em sala:\n",
    "\n",
    "$\\begin{cases}\n",
    "2x_1+2x_2+3x_3+4x_4 = 20\\\\\n",
    "5x_2+6x_3+7x_4 = 34\\\\\n",
    "8x_3 + 9x_4 = 25\\\\\n",
    "10x_4=10\n",
    "\\end{cases}$"
   ]
  },
  {
   "cell_type": "code",
   "execution_count": null,
   "metadata": {
    "collapsed": true
   },
   "outputs": [],
   "source": [
    "## Defina a matriz A e o vetor b e chame a função substituicoes_retroativas\n",
    "# Escreva o seu código aqui"
   ]
  },
  {
   "cell_type": "markdown",
   "metadata": {},
   "source": [
    "### Método de Gauss"
   ]
  },
  {
   "cell_type": "code",
   "execution_count": null,
   "metadata": {
    "collapsed": true
   },
   "outputs": [],
   "source": [
    "def gauss(A, b):\n",
    "    '''Executa o método da eliminação de Gauss para resolver o sistema  linear Ax=b \n",
    "    transformando o sistema em um sistema triangular superior equivalente.\n",
    "    Parâmetros de entrada: A é uma matriz quadrada de ordem n e b é o vetor constante.\n",
    "    Saída: vetor x\n",
    "    '''\n",
    "    ## n é a ordem da matriz A\n",
    "    n = len(A)\n",
    "    ## Para cada etapa k\n",
    "        ## Para cada linha i\n",
    "            ## Calcula o fator m\n",
    "            ## Atualiza a linha i da matriz, percorrendo todas as colunas j\n",
    "            # Atualiza o vetor b na linha i\n",
    "            ## Zera o elemento Aik\n",
    "    ## Agora resolve o sistema triangular superior usando as substituições \n",
    "    ## retroativas\n",
    "    x = substituicoes_retroativas(A, b)\n",
    "    return x"
   ]
  },
  {
   "cell_type": "markdown",
   "metadata": {},
   "source": [
    "**Não se esqueça de executar as células de código acima!**"
   ]
  },
  {
   "cell_type": "markdown",
   "metadata": {},
   "source": [
    "Agora precisamos testar se a função está implementada corretamente. Também iremos usar o exemplo mostrado em sala."
   ]
  },
  {
   "cell_type": "code",
   "execution_count": null,
   "metadata": {
    "collapsed": true
   },
   "outputs": [],
   "source": [
    "A1 = [[1, -3, 2],\n",
    "     [-2, 8, -1],\n",
    "     [4, -6, 5]]\n",
    "b1 = [11, -15, 29]\n",
    "x = gauss(A1, b1)\n",
    "print(x)"
   ]
  },
  {
   "cell_type": "markdown",
   "metadata": {},
   "source": [
    "Se estiver tudo ok, ao executar a célula acima, você deve ver a resposta:\n",
    "```\n",
    "[2.0, -1.0, 3.0]\n",
    "```\n",
    "#### Exercício\n",
    "Na célula abaixo, resolva o exercício mostrado em sala:\n",
    "\n",
    "$\\left[\\begin{array}{rrr}\n",
    "3& 2 & 4\\\\\n",
    "1& 1 & 2\\\\\n",
    "4& 3 & -2\\\\\n",
    "\\end{array}\\right] \\left[\\begin{array}{c}\n",
    "x_1\\\\\n",
    "x_2\\\\\n",
    "x_3\\\\\n",
    "\\end{array}\\right] = \\left[\\begin{array}{r}\n",
    "1\\\\\n",
    "2\\\\\n",
    "3\\\\\n",
    "\\end{array}\\right] $"
   ]
  },
  {
   "cell_type": "code",
   "execution_count": null,
   "metadata": {
    "collapsed": true
   },
   "outputs": [],
   "source": [
    "## Defina a matriz A e o vetor b e chame a função gauss\n",
    "# Escreva o seu código aqui"
   ]
  },
  {
   "cell_type": "markdown",
   "metadata": {},
   "source": [
    "### Modificação do método de Gauss para calcular o determinante\n",
    "\n",
    "Copie a função gauss acima, e depois modifique-a para calcular o determinante."
   ]
  },
  {
   "cell_type": "code",
   "execution_count": null,
   "metadata": {
    "collapsed": true
   },
   "outputs": [],
   "source": [
    "def gauss_det(A, b):\n",
    "    '''\n",
    "    Executa o método da eliminação de Gauss para resolver o sistema  linear Ax=b \n",
    "    transformando o sistema em um sistema triangular superior equivalente.\n",
    "    Parâmetros de entrada: A é uma matriz quadrada de ordem n e b é o vetor constante.\n",
    "    Saída: tupla (x, det) contendo o vetor x e o determinante de A\n",
    "    '''\n",
    "    # código de gauss aqui...\n",
    "    \n",
    "    ## faz o cálculo do determinante antes de chamar as substituições retroativas\n",
    "    \n",
    "    # escreva o seu código aqui\n",
    "    \n",
    "    x = substituicoes_retroativas(n, A, b)\n",
    "    return (x, det)"
   ]
  },
  {
   "cell_type": "markdown",
   "metadata": {},
   "source": [
    "Vamos testar a função com o exemplo mostrado em sala:\n",
    "\n",
    "$\\left[\\begin{array}{rrr}\n",
    "1& -3 & 2\\\\\n",
    "-2& 8 & -1\\\\\n",
    "4& -6 & 5\\\\\n",
    "\\end{array}\\right] \\left[\\begin{array}{c}\n",
    "x_1\\\\\n",
    "x_2\\\\\n",
    "x_3\\\\\n",
    "\\end{array}\\right] = \\left[\\begin{array}{r}\n",
    "11\\\\\n",
    "-15\\\\\n",
    "29\\\\\n",
    "\\end{array}\\right] $"
   ]
  },
  {
   "cell_type": "code",
   "execution_count": null,
   "metadata": {
    "collapsed": true
   },
   "outputs": [],
   "source": [
    "## Defina a matriz A e o vetor b e chame a função gauss_det\n",
    "# Escreva o seu código aqui"
   ]
  },
  {
   "cell_type": "markdown",
   "metadata": {},
   "source": [
    "Se tudo deu certo, você deve obter a seguinte resposta:\n",
    "\n",
    "```[2.0, -1.0, 3.0]  -24.0\n",
    "```\n",
    "\n",
    "## Exercício\n",
    "\n",
    "Use a sua implementação do Método de Gauss para resolver o exercício feito em sala:\n",
    "\n",
    "$\\left[\\begin{array}{rrrr}\n",
    "6& -2 & 2 & 4\\\\\n",
    "12& -8 & 6 & 10\\\\\n",
    "3& -13 & 9 & 3\\\\\n",
    "-6& 4 & 1 & -18\\\\\n",
    "\\end{array}\\right] \\left[\\begin{array}{c}\n",
    "x_1\\\\\n",
    "x_2\\\\\n",
    "x_3\\\\\n",
    "x_4\n",
    "\\end{array}\\right] = \\left[\\begin{array}{r}\n",
    "16\\\\\n",
    "26\\\\\n",
    "-19\\\\\n",
    "-34\n",
    "\\end{array}\\right] $\n",
    "\n",
    "Qual o determinante da matriz A?"
   ]
  },
  {
   "cell_type": "code",
   "execution_count": null,
   "metadata": {
    "collapsed": true
   },
   "outputs": [],
   "source": [
    "## Defina a matriz A e o vetor b e chame a função gauss_det\n",
    "# Escreva o seu código aqui"
   ]
  }
 ],
 "metadata": {
  "kernelspec": {
   "display_name": "Python 3",
   "language": "python",
   "name": "python3"
  },
  "language_info": {
   "codemirror_mode": {
    "name": "ipython",
    "version": 3
   },
   "file_extension": ".py",
   "mimetype": "text/x-python",
   "name": "python",
   "nbconvert_exporter": "python",
   "pygments_lexer": "ipython3",
   "version": "3.7.0"
  }
 },
 "nbformat": 4,
 "nbformat_minor": 2
}
