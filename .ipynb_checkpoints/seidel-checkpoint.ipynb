{
 "cells": [
  {
   "cell_type": "markdown",
   "metadata": {},
   "source": [
    "# Método Iterativo de Gauss-Seidel\n",
    "## Objetivos\n",
    "O objetivo desse notebook é implementar o método de Gauss-Seidel e testá-lo.\n",
    " \n",
    "\n",
    "## Implementação\n",
    "Nós iremos implementar os algoritmos parte por parte, de acordo com as estratégias mostradas em sala. As instruções estão nos comentários nas funções abaixo. Você só precisa editar onde estiver indicado. \n",
    "\n",
    "Para executar uma célula, selecione a célula e pressione ```Ctrl + Enter```. Após implementar as funções abaixo, você deve executar cada uma das células, preferencialmente na ordem em que elas aparecem.\n"
   ]
  },
  {
   "cell_type": "markdown",
   "metadata": {},
   "source": [
    "### Norma de vetores\n",
    "\n",
    "Iremos precisar da função norma implementada no notebook do Gauss-Jacobi. Copie e cole o código na célula abaixo."
   ]
  },
  {
   "cell_type": "code",
   "execution_count": 11,
   "metadata": {
    "collapsed": true
   },
   "outputs": [],
   "source": [
    "def norma(v,x):\n",
    "    \"\"\"Calcula a norma entre dois vetores v e x.\n",
    "    \"\"\"\n",
    "    n = len(v)\n",
    "    maxDen = 0\n",
    "    maxNum = 0\n",
    "    for i in range(n):\n",
    "        diff = abs(v[i]-x[i])\n",
    "        den = abs(v[i])\n",
    "        if diff > maxNum:\n",
    "            maxNum = diff\n",
    "        if den > maxDen:\n",
    "            maxDen = den\n",
    "    \n",
    "    return maxNum/maxDen\n",
    "    "
   ]
  },
  {
   "cell_type": "markdown",
   "metadata": {},
   "source": [
    "### Método de Gauss-Seidel\n",
    "\n",
    "Tomando como base o método de Gauss-Jacobi, faça as seguintes alterações:\n",
    "\n",
    "1. O vetor x **não** precisa ser inicializado com $b_i/a_{ii}$.\n",
    "\n",
    "2. Altere na parte das iterações, de modo que o vetor x agora contém a aproximação atual e o vetor v contém a aproximação anterior. Assim, salve o valor anterior de x em v logo antes de receber o novo valor.\n",
    "\n",
    "3. Altere a ordem de chamada dos parâmetros na função norma."
   ]
  },
  {
   "cell_type": "code",
   "execution_count": 12,
   "metadata": {
    "collapsed": true
   },
   "outputs": [],
   "source": [
    "def seidel(A, b, epsilon, iterMax=50):\n",
    "    \"\"\"Resolve o sistema linear Ax=b usando o método iterativo Gauss-Seidel.\n",
    "    O critério de parada utiliza a norma-infinito.\n",
    "    Saída é o vetor x.\n",
    "    \n",
    "    \"\"\"\n",
    "    n = len(A)\n",
    "    x = n * [0]\n",
    "    v = n * [0]\n",
    "    \n",
    "    for k in range(iterMax):\n",
    "        for i in range(n):\n",
    "            soma = 0\n",
    "            for j in range(n):\n",
    "                if j != i:\n",
    "                    soma = soma + (A[i][j]*x[j])\n",
    "            soma = ((b[i]) - soma) / A[i][i]\n",
    "            v[i] = x[i]\n",
    "            x[i] = soma\n",
    "        \n",
    "        if norma(x, v) <= epsilon:\n",
    "            return x"
   ]
  },
  {
   "cell_type": "markdown",
   "metadata": {},
   "source": [
    "**Não se esqueça de executar a célula de código acima!**\n",
    "\n",
    "Agora precisamos testar se a função está implementada corretamente.\n",
    "Teste com o exemplo visto em sala:\n",
    "\n",
    "$\\begin{cases} \n",
    "5x_1 +x_2+x_3= 5\\\\\n",
    "3x_1+ 4x_2+x_3=6\\\\\n",
    "3x_1 + 3x_2 + 6x_3=0\\\\\n",
    "\\end{cases}\n",
    "$\n",
    "\n",
    "com $\\varepsilon = 0.05$. "
   ]
  },
  {
   "cell_type": "code",
   "execution_count": 15,
   "metadata": {},
   "outputs": [
    {
     "data": {
      "text/plain": [
       "[0.363588809967041, 0.4545143246650696, 0.4545328617095947, 0.3636332154273987]"
      ]
     },
     "execution_count": 15,
     "metadata": {},
     "output_type": "execute_result"
    }
   ],
   "source": [
    "A = [[4, -1, 0, 0], \n",
    "     [-1, 4, -1, 0], \n",
    "     [0, -1, 4, -1], \n",
    "     [0, 0, -1, 4]]\n",
    "b = [1, 1, 1, 1]\n",
    "epsilon = 0.001\n",
    "\n",
    "seidel(A, b, epsilon, iterMax=50)"
   ]
  },
  {
   "cell_type": "markdown",
   "metadata": {},
   "source": [
    "Se estiver tudo ok, ao executar a célula acima, você deve ver a resposta:\n",
    "```\n",
    "[1.0075, 0.99125, -0.999375]\n",
    "\n",
    "```"
   ]
  },
  {
   "cell_type": "markdown",
   "metadata": {},
   "source": [
    "### Exercício\n",
    "\n",
    "Use a sua função para resolver o seguinte sistema linear:\n",
    "\n",
    "$\\begin{cases} \n",
    "3x_1 \\ \\ \\ +x_3= 3\\\\\n",
    "x_1 - x_2 \\ \\ \\ =20\\\\\n",
    "3x_1 + x_2 + 2x_3=9\\\\\n",
    "\\end{cases}\n",
    "$\n",
    "\n",
    "e com $\\varepsilon = 0.01$. "
   ]
  },
  {
   "cell_type": "code",
   "execution_count": null,
   "metadata": {
    "collapsed": true
   },
   "outputs": [],
   "source": [
    "## Defina a matriz A, o vetor b e o epsilon.\n",
    "## Depois chame a função seidel e mostre o resultado obtido.\n",
    "# Escreva o seu código aqui\n"
   ]
  }
 ],
 "metadata": {
  "kernelspec": {
   "display_name": "Python 3",
   "language": "python",
   "name": "python3"
  },
  "language_info": {
   "codemirror_mode": {
    "name": "ipython",
    "version": 3
   },
   "file_extension": ".py",
   "mimetype": "text/x-python",
   "name": "python",
   "nbconvert_exporter": "python",
   "pygments_lexer": "ipython3",
   "version": "3.7.0"
  }
 },
 "nbformat": 4,
 "nbformat_minor": 2
}
